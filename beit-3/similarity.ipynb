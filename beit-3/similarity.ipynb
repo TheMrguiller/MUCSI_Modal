{
 "cells": [
  {
   "cell_type": "code",
   "execution_count": 1,
   "metadata": {},
   "outputs": [
    {
     "name": "stderr",
     "output_type": "stream",
     "text": [
      "C:\\Users\\erik2\\AppData\\Roaming\\Python\\Python310\\site-packages\\tqdm\\auto.py:21: TqdmWarning: IProgress not found. Please update jupyter and ipywidgets. See https://ipywidgets.readthedocs.io/en/stable/user_install.html\n",
      "  from .autonotebook import tqdm as notebook_tqdm\n"
     ]
    }
   ],
   "source": [
    "from datasets_2 import create_downstream_dataset"
   ]
  },
  {
   "cell_type": "code",
   "execution_count": 2,
   "metadata": {},
   "outputs": [],
   "source": [
    "class Args:\n",
    "    task = \"vqav2\"\n",
    "    model = \"beit3_base_patch16_224_mini_vqav2\"\n",
    "    batch_size = 8\n",
    "    sentencepiece_model = \"./beit3.spm\"\n",
    "    data_path = \"./data\"\n",
    "    input_size = 224\n",
    "    train_interpolation = 'bilinear'\n",
    "    randaug = False\n",
    "    num_max_bpe_tokens = 128\n",
    "    num_workers = 1\n",
    "    pin_mem = True\n",
    "    dist_eval = False"
   ]
  },
  {
   "cell_type": "code",
   "execution_count": 3,
   "metadata": {},
   "outputs": [
    {
     "name": "stdout",
     "output_type": "stream",
     "text": [
      "Load 434867 image-text pairs from ./data\\vqa.train.jsonl. \n",
      "Load 204944 image-text pairs from ./data\\vqa.trainable_val.jsonl. \n",
      "Load 5107 image-text pairs from ./data\\vqa.rest_val.jsonl. \n"
     ]
    }
   ],
   "source": [
    "data_loader_train, data_loader_val = create_downstream_dataset(Args())"
   ]
  },
  {
   "cell_type": "code",
   "execution_count": 4,
   "metadata": {},
   "outputs": [],
   "source": [
    "x = next(iter(data_loader_train))"
   ]
  },
  {
   "cell_type": "code",
   "execution_count": 5,
   "metadata": {},
   "outputs": [],
   "source": [
    "from transformers import XLMRobertaTokenizer\n",
    "tokenizer = XLMRobertaTokenizer(\"./beit3.spm\")"
   ]
  },
  {
   "cell_type": "code",
   "execution_count": 13,
   "metadata": {},
   "outputs": [
    {
     "name": "stdout",
     "output_type": "stream",
     "text": [
      "Load ckpt from ./save_tiny/checkpoint-best.pth\n",
      "Load state_dict by model_key = model\n"
     ]
    }
   ],
   "source": [
    "from timm.models import create_model\n",
    "import utils\n",
    "import modeling_finetune\n",
    "\n",
    "model = create_model(\n",
    "    \"beit3_base_patch16_224_pipi_vqav2\",\n",
    "    pretrained=False,\n",
    "    drop_path_rate=0.1,\n",
    "    vocab_size=64010,\n",
    "    checkpoint_activations=None,\n",
    ")\n",
    "\n",
    "utils.load_model_and_may_interpolate(\"./save_tiny/checkpoint-best.pth\", model, \"model|module\", '')\n",
    "model = model.to('cuda:0')"
   ]
  },
  {
   "cell_type": "code",
   "execution_count": 14,
   "metadata": {},
   "outputs": [],
   "source": [
    "from torch.utils.data import DataLoader\n",
    "from cka import CKA\n",
    "\n",
    "dataloader = DataLoader(data_loader_val, batch_size=8, shuffle=False)"
   ]
  },
  {
   "cell_type": "code",
   "execution_count": 17,
   "metadata": {},
   "outputs": [
    {
     "name": "stderr",
     "output_type": "stream",
     "text": [
      "c:\\Users\\erik2\\Documents\\Github\\MUCSI_Modal\\beit-3\\cka.py:64: UserWarning: Both model have identical names - MiniBeit3. It may cause confusion when interpreting the results. Consider giving unique names to the models :)\n",
      "  warn(f\"Both model have identical names - {self.model2_info['Name']}. \" \\\n"
     ]
    }
   ],
   "source": [
    "cka = CKA(model, model,\n",
    "          model1_name=\"MiniBeit3\",   # good idea to provide names to avoid confusion\n",
    "          model2_name=\"MiniBeit3\",   \n",
    "          model1_layers= [\n",
    "                            \"beit3.encoder.layers.0.final_layer_norm.A\",\n",
    "                            \"beit3.encoder.layers.0.final_layer_norm.B\",\n",
    "                            \"pooler\",\n",
    "                            \"head.1\",\n",
    "                            \"head.3\"\n",
    "                            ],\n",
    "                        model2_layers= [\n",
    "                            \"beit3.encoder.layers.0.final_layer_norm.A\",\n",
    "                            \"beit3.encoder.layers.0.final_layer_norm.B\",\n",
    "                            \"pooler\",\n",
    "                            \"head.1\",\n",
    "                            \"head.3\"\n",
    "                            ],\n",
    "          device='cuda')\n"
   ]
  },
  {
   "cell_type": "code",
   "execution_count": 18,
   "metadata": {},
   "outputs": [
    {
     "name": "stderr",
     "output_type": "stream",
     "text": [
      "c:\\Users\\erik2\\Documents\\Github\\MUCSI_Modal\\beit-3\\cka.py:158: UserWarning: Dataloader for Model 2 is not given. Using the same dataloader for both models.\n",
      "  warn(\"Dataloader for Model 2 is not given. Using the same dataloader for both models.\")\n"
     ]
    },
    {
     "name": "stdout",
     "output_type": "stream",
     "text": [
      "num_batches  638\n"
     ]
    },
    {
     "name": "stderr",
     "output_type": "stream",
     "text": [
      "| Comparing features |: 100%|██████████| 638/638 [00:59<00:00, 10.81it/s]\n"
     ]
    }
   ],
   "source": [
    "cka.compare(dataloader.dataset)"
   ]
  },
  {
   "cell_type": "code",
   "execution_count": 19,
   "metadata": {},
   "outputs": [],
   "source": [
    "results = cka.export() "
   ]
  },
  {
   "cell_type": "code",
   "execution_count": 21,
   "metadata": {},
   "outputs": [
    {
     "data": {
      "image/png": "[encoded data removed]",
      "text/plain": [
       "<Figure size 640x480 with 2 Axes>"
      ]
     },
     "metadata": {},
     "output_type": "display_data"
    }
   ],
   "source": [
    "from matplotlib import pyplot as plt\n",
    "\n",
    "fig, ax = plt.subplots()\n",
    "im = ax.imshow(results['CKA'], origin='lower')\n",
    "ax.set_xlabel(f\"Layers Beit-Tiny\", fontsize=15)\n",
    "ax.set_ylabel(f\"Layers Beit-Tiny\", fontsize=15)\n",
    "\n",
    "ax.set_title(f\"Beit-Tiny Instrasimilarity\", fontsize=18)\n",
    "\n",
    "# Add colorbar\n",
    "cbar = fig.colorbar(im)\n",
    "\n",
    "plt.tight_layout()\n",
    "plt.show()\n"
   ]
  }
 ],
 "metadata": {
  "kernelspec": {
   "display_name": "MucsiModal",
   "language": "python",
   "name": "python3"
  },
  "language_info": {
   "codemirror_mode": {
    "name": "ipython",
    "version": 3
   },
   "file_extension": ".py",
   "mimetype": "text/x-python",
   "name": "python",
   "nbconvert_exporter": "python",
   "pygments_lexer": "ipython3",
   "version": "3.10.11"
  },
  "orig_nbformat": 4,
  "vscode": {
   "interpreter": {
    "hash": "9136c291c36c2ddd14be0c4e766b34be5a0b77ae54a4cd28b71f591ccfb022d7"
   }
  }
 },
 "nbformat": 4,
 "nbformat_minor": 2
}
