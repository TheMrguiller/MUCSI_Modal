{
 "cells": [
  {
   "attachments": {},
   "cell_type": "markdown",
   "metadata": {},
   "source": [
    "# VQAv2 Dataset preprocessing\n",
    "\n",
    "#### Multiple CHoice Questions creation"
   ]
  },
  {
   "attachments": {},
   "cell_type": "markdown",
   "metadata": {},
   "source": [
    "### Libraries"
   ]
  },
  {
   "cell_type": "code",
   "execution_count": 1,
   "metadata": {},
   "outputs": [
    {
     "name": "stderr",
     "output_type": "stream",
     "text": [
      "[nltk_data] Downloading package stopwords to /home/lander/nltk_data...\n",
      "[nltk_data]   Package stopwords is already up-to-date!\n"
     ]
    }
   ],
   "source": [
    "import json\n",
    "import torch.utils.data as data\n",
    "import os\n",
    "import random \n",
    "import io\n",
    "import base64\n",
    "import matplotlib.pyplot as plt\n",
    "import pandas as pd\n",
    "import swifter\n",
    "import gensim.downloader as api\n",
    "\n",
    "from mcq import MCQ\n",
    "from torchvision import transforms as T\n",
    "from PIL import Image\n",
    "from sense2vec import Sense2Vec\n",
    "from sentence_transformers import SentenceTransformer\n",
    "from tqdm import tqdm\n",
    "from gensim.models import Word2Vec\n",
    "from datasets import Dataset\n"
   ]
  },
  {
   "attachments": {},
   "cell_type": "markdown",
   "metadata": {},
   "source": [
    "### Load Local Dataset"
   ]
  },
  {
   "cell_type": "code",
   "execution_count": 2,
   "metadata": {},
   "outputs": [],
   "source": [
    "# get images and annotations from https://visualqa.org/download.html\n",
    "VQAV2_ROOT = '../flamingo-train_task/training/VQAV2/val2014'\n",
    "VQAV2_ANN_VAL = '../flamingo-train_task/training/VQAV2/v2_mscoco_val2014_annotations.json'\n",
    "VQAV2_ANN_QUEST_VAL = '../flamingo-train_task/training/VQAV2/v2_OpenEnded_mscoco_val2014_questions.json'"
   ]
  },
  {
   "cell_type": "code",
   "execution_count": 3,
   "metadata": {},
   "outputs": [],
   "source": [
    "class VQAv2(data.Dataset):\n",
    "    def __init__(self, image_folder, questions_file, annotations_file, transform=None, target_transform=None):\n",
    "        self.image_folder = image_folder\n",
    "        print(os.getcwd())\n",
    "        self.questions = json.load(open(questions_file))['questions']\n",
    "        self.annotations = json.load(open(annotations_file))['annotations']\n",
    "        self.transform = transform\n",
    "        self.target_transform = target_transform\n",
    "\n",
    "    def __getitem__(self, index):\n",
    "        target = self.questions[index]['question']\n",
    "        label = self.annotations[index]['multiple_choice_answer']\n",
    "        image_id = self.annotations[index]['image_id']\n",
    "        image_path = os.path.join(self.image_folder, 'COCO_val2014_' + str(image_id).zfill(12) + '.jpg')\n",
    "        image = Image.open(image_path).convert('RGB')\n",
    "        \n",
    "        if self.transform:\n",
    "            image = self.transform(image)\n",
    "\n",
    "        if self.target_transform is not None:\n",
    "            target = self.target_transform(target)\n",
    "        \n",
    "        return image, target, label\n",
    "\n",
    "    def __getcaption__(self,index):\n",
    "        return self.questions[\"question\"][index]\n",
    "    \n",
    "    def __getanswer__(self,index):\n",
    "        return self.annotations[\"answer\"][index]\n",
    "    \n",
    "    def __len__(self):\n",
    "        return len(self.questions)"
   ]
  },
  {
   "cell_type": "code",
   "execution_count": 4,
   "metadata": {},
   "outputs": [
    {
     "name": "stdout",
     "output_type": "stream",
     "text": [
      "/home/lander/Documentos/GitHub/MUCSI_Modal/preprocessing\n"
     ]
    }
   ],
   "source": [
    "transform = T.Compose([ #Con cierta probabilidad da la vuelta a la imagen y procesa la imagen con Clip\n",
    "    T.Resize((224, 224)),                       \n",
    "])\n",
    "\n",
    "def target_transform(data):\n",
    "    return f\"{random.choice(['', ' '])}[QA][CONTEXT]<image>{data}[ANSWER]\"\n",
    "    \n",
    "dataset = VQAv2(\n",
    "        image_folder=VQAV2_ROOT,\n",
    "        questions_file=VQAV2_ANN_QUEST_VAL,\n",
    "        annotations_file=VQAV2_ANN_VAL,\n",
    "        target_transform=target_transform,\n",
    "    )"
   ]
  },
  {
   "cell_type": "code",
   "execution_count": 5,
   "metadata": {},
   "outputs": [
    {
     "name": "stdout",
     "output_type": "stream",
     "text": [
      "Total annotations: 214354, Total questions:214354\n"
     ]
    }
   ],
   "source": [
    "print(\"Total annotations: {}, Total questions:{}\".format(len(dataset.annotations), len(dataset.questions)))"
   ]
  },
  {
   "cell_type": "code",
   "execution_count": 6,
   "metadata": {},
   "outputs": [
    {
     "name": "stdout",
     "output_type": "stream",
     "text": [
      "{'image_id': 262148, 'question': 'Where is he looking?', 'question_id': 262148000}\n",
      "{'question_type': 'none of the above', 'multiple_choice_answer': 'down', 'answers': [{'answer': 'down', 'answer_confidence': 'yes', 'answer_id': 1}, {'answer': 'down', 'answer_confidence': 'yes', 'answer_id': 2}, {'answer': 'at table', 'answer_confidence': 'yes', 'answer_id': 3}, {'answer': 'skateboard', 'answer_confidence': 'yes', 'answer_id': 4}, {'answer': 'down', 'answer_confidence': 'yes', 'answer_id': 5}, {'answer': 'table', 'answer_confidence': 'yes', 'answer_id': 6}, {'answer': 'down', 'answer_confidence': 'yes', 'answer_id': 7}, {'answer': 'down', 'answer_confidence': 'yes', 'answer_id': 8}, {'answer': 'down', 'answer_confidence': 'yes', 'answer_id': 9}, {'answer': 'down', 'answer_confidence': 'yes', 'answer_id': 10}], 'image_id': 262148, 'answer_type': 'other', 'question_id': 262148000}\n"
     ]
    }
   ],
   "source": [
    "print(dataset.questions[0])\n",
    "print(dataset.annotations[0])"
   ]
  },
  {
   "cell_type": "code",
   "execution_count": null,
   "metadata": {},
   "outputs": [],
   "source": [
    "!wget -c \"https://s3.amazonaws.com/dl4j-distribution/GoogleNews-vectors-negative300.bin.gz\""
   ]
  },
  {
   "cell_type": "code",
   "execution_count": 7,
   "metadata": {},
   "outputs": [],
   "source": [
    "model = api.load('word2vec-google-news-300')\n",
    "INDEXES = [\"(A) \", \"(B) \", \"(C) \", \"(D) \"]\n",
    "mcq = MCQ()\n",
    "s2v = Sense2Vec().from_disk('s2v_old')\n",
    "sentence_transformer_model = SentenceTransformer('msmarco-distilbert-base-v3')\n",
    "\n",
    "def generate_distractors(row):\n",
    "    choices_tmp = '[OPTIONS]'\n",
    "\n",
    "    if row['answer_type'] == \"yes/no\":\n",
    "        choices_tmp += '(A) Yes (B) No '\n",
    "    else:\n",
    "        distractors = []\n",
    "        word = row['answer']\n",
    "        if word in model.key_to_index:\n",
    "            distractors = [similar_word.capitalize() for similar_word, _ in model.most_similar(word, topn=5)]\n",
    "\n",
    "        if len(distractors) < 3:\n",
    "            distractors_mcq = mcq.get_distractors(word=word.capitalize(),\n",
    "                                                  origsentence=row['question'],\n",
    "                                                  sense2vecmodel=s2v,\n",
    "                                                  sentencemodel=sentence_transformer_model,\n",
    "                                                  top_n=40,\n",
    "                                                  lambdaval=0.2)\n",
    "        \n",
    "            for distractor in distractors_mcq:\n",
    "                distractors.append(distractor)\n",
    "                \n",
    "        while len(distractors) < 3:\n",
    "            distractors.append(mcq.r.get_random_word().capitalize())\n",
    "            \n",
    "        distractors = distractors[0:3]\n",
    "        distractors.append(word.capitalize())\n",
    "        random.shuffle(distractors)\n",
    "\n",
    "        for idx, distractor in zip(INDEXES, distractors):\n",
    "            choices_tmp += idx + distractor + \" \"\n",
    "\n",
    "    return choices_tmp"
   ]
  },
  {
   "cell_type": "code",
   "execution_count": 8,
   "metadata": {},
   "outputs": [
    {
     "name": "stderr",
     "output_type": "stream",
     "text": [
      " 25%|██▍       | 52731/214354 [01:34<04:48, 560.58it/s]\n"
     ]
    }
   ],
   "source": [
    "images, questions, answers,answer_types = [], [], [], []\n",
    "dataset_id = 0\n",
    "last_image_id = None\n",
    "LIMIT = 10000\n",
    "\n",
    "for idx, question, annotation in tqdm(zip(range(len(dataset.questions)), dataset.questions, dataset.annotations), total=len(dataset.questions)):\n",
    "    answer = annotation['multiple_choice_answer']\n",
    "    answer_type = annotation['answer_type']\n",
    "    actual_image_id = question['image_id']\n",
    "    question = question['question']\n",
    "\n",
    "    img, _, _ = dataset.__getitem__(idx)\n",
    "    \n",
    "    if actual_image_id != last_image_id:\n",
    "        images.append(img)\n",
    "        questions.append('[QUESTION]' + question)\n",
    "        answers.append(answer.capitalize())\n",
    "        answer_types.append(answer_type)\n",
    "        last_image_id = actual_image_id\n",
    "\n",
    "    if len(images) >= LIMIT:\n",
    "        break\n"
   ]
  },
  {
   "cell_type": "code",
   "execution_count": 9,
   "metadata": {},
   "outputs": [
    {
     "data": {
      "application/vnd.jupyter.widget-view+json": {
       "model_id": "7ca511a2a8184522a23f5f1f08446712",
       "version_major": 2,
       "version_minor": 0
      },
      "text/plain": [
       "Pandas Apply:   0%|          | 0/10000 [00:00<?, ?it/s]"
      ]
     },
     "metadata": {},
     "output_type": "display_data"
    }
   ],
   "source": [
    "data = {\n",
    "    'image': images,\n",
    "    'question': questions,\n",
    "    'answer': answers,\n",
    "    'answer_type': answer_types\n",
    "}\n",
    "df = pd.DataFrame.from_dict(data)\n",
    "df['choices'] = df.swifter.apply(generate_distractors, axis=1)"
   ]
  },
  {
   "cell_type": "code",
   "execution_count": 11,
   "metadata": {},
   "outputs": [
    {
     "data": {
      "application/vnd.jupyter.widget-view+json": {
       "model_id": "a065b71f116344eb91353623f3e2197f",
       "version_major": 2,
       "version_minor": 0
      },
      "text/plain": [
       "Pandas Apply:   0%|          | 0/10000 [00:00<?, ?it/s]"
      ]
     },
     "metadata": {},
     "output_type": "display_data"
    }
   ],
   "source": [
    "df2 = df\n",
    "replace_func = lambda text: text.replace('_', ' ')\n",
    "df2['choices'] = df2['choices'].swifter.apply(replace_func)"
   ]
  },
  {
   "cell_type": "code",
   "execution_count": 12,
   "metadata": {},
   "outputs": [
    {
     "data": {
      "text/html": [
       "<div>\n",
       "<style scoped>\n",
       "    .dataframe tbody tr th:only-of-type {\n",
       "        vertical-align: middle;\n",
       "    }\n",
       "\n",
       "    .dataframe tbody tr th {\n",
       "        vertical-align: top;\n",
       "    }\n",
       "\n",
       "    .dataframe thead th {\n",
       "        text-align: right;\n",
       "    }\n",
       "</style>\n",
       "<table border=\"1\" class=\"dataframe\">\n",
       "  <thead>\n",
       "    <tr style=\"text-align: right;\">\n",
       "      <th></th>\n",
       "      <th>image</th>\n",
       "      <th>question</th>\n",
       "      <th>answer</th>\n",
       "      <th>answer_type</th>\n",
       "      <th>choices</th>\n",
       "    </tr>\n",
       "  </thead>\n",
       "  <tbody>\n",
       "    <tr>\n",
       "      <th>0</th>\n",
       "      <td>&lt;PIL.Image.Image image mode=RGB size=640x512 a...</td>\n",
       "      <td>[QUESTION]Where is he looking?</td>\n",
       "      <td>Down</td>\n",
       "      <td>other</td>\n",
       "      <td>[OPTIONS](A) Up (B) Down (C) Down chicken sand...</td>\n",
       "    </tr>\n",
       "    <tr>\n",
       "      <th>1</th>\n",
       "      <td>&lt;PIL.Image.Image image mode=RGB size=640x428 a...</td>\n",
       "      <td>[QUESTION]What website copyrighted the picture?</td>\n",
       "      <td>Foodiebakercom</td>\n",
       "      <td>other</td>\n",
       "      <td>[OPTIONS](A) Giulio (B) Sunback (C) Foodiebake...</td>\n",
       "    </tr>\n",
       "    <tr>\n",
       "      <th>2</th>\n",
       "      <td>&lt;PIL.Image.Image image mode=RGB size=640x480 a...</td>\n",
       "      <td>[QUESTION]What is the man doing in the street?</td>\n",
       "      <td>Walking</td>\n",
       "      <td>other</td>\n",
       "      <td>[OPTIONS](A) Walking (B) Strolling (C) Jogging...</td>\n",
       "    </tr>\n",
       "    <tr>\n",
       "      <th>3</th>\n",
       "      <td>&lt;PIL.Image.Image image mode=RGB size=640x512 a...</td>\n",
       "      <td>[QUESTION]Why is there a gap between the roof ...</td>\n",
       "      <td>Yes</td>\n",
       "      <td>other</td>\n",
       "      <td>[OPTIONS](A) Oh yes (B) Yeah (C) Yes (D) Well</td>\n",
       "    </tr>\n",
       "    <tr>\n",
       "      <th>4</th>\n",
       "      <td>&lt;PIL.Image.Image image mode=RGB size=640x427 a...</td>\n",
       "      <td>[QUESTION]What color is the grass in this pict...</td>\n",
       "      <td>Green</td>\n",
       "      <td>other</td>\n",
       "      <td>[OPTIONS](A) Greener (B) Blue (C) Green (D) Wh...</td>\n",
       "    </tr>\n",
       "  </tbody>\n",
       "</table>\n",
       "</div>"
      ],
      "text/plain": [
       "                                               image   \n",
       "0  <PIL.Image.Image image mode=RGB size=640x512 a...  \\\n",
       "1  <PIL.Image.Image image mode=RGB size=640x428 a...   \n",
       "2  <PIL.Image.Image image mode=RGB size=640x480 a...   \n",
       "3  <PIL.Image.Image image mode=RGB size=640x512 a...   \n",
       "4  <PIL.Image.Image image mode=RGB size=640x427 a...   \n",
       "\n",
       "                                            question          answer   \n",
       "0                     [QUESTION]Where is he looking?            Down  \\\n",
       "1    [QUESTION]What website copyrighted the picture?  Foodiebakercom   \n",
       "2     [QUESTION]What is the man doing in the street?         Walking   \n",
       "3  [QUESTION]Why is there a gap between the roof ...             Yes   \n",
       "4  [QUESTION]What color is the grass in this pict...           Green   \n",
       "\n",
       "  answer_type                                            choices  \n",
       "0       other  [OPTIONS](A) Up (B) Down (C) Down chicken sand...  \n",
       "1       other  [OPTIONS](A) Giulio (B) Sunback (C) Foodiebake...  \n",
       "2       other  [OPTIONS](A) Walking (B) Strolling (C) Jogging...  \n",
       "3       other     [OPTIONS](A) Oh yes (B) Yeah (C) Yes (D) Well   \n",
       "4       other  [OPTIONS](A) Greener (B) Blue (C) Green (D) Wh...  "
      ]
     },
     "execution_count": 12,
     "metadata": {},
     "output_type": "execute_result"
    }
   ],
   "source": [
    "df2.head()"
   ]
  },
  {
   "cell_type": "code",
   "execution_count": 13,
   "metadata": {},
   "outputs": [
    {
     "data": {
      "application/vnd.jupyter.widget-view+json": {
       "model_id": "aa6d46e54e9b4541b8afd7739694ac80",
       "version_major": 2,
       "version_minor": 0
      },
      "text/plain": [
       "Map:   0%|          | 0/1000 [00:00<?, ? examples/s]"
      ]
     },
     "metadata": {},
     "output_type": "display_data"
    },
    {
     "data": {
      "application/vnd.jupyter.widget-view+json": {
       "model_id": "97d1d83ae8654f7188e361ba7cc3711a",
       "version_major": 2,
       "version_minor": 0
      },
      "text/plain": [
       "Pushing dataset shards to the dataset hub:   0%|          | 0/10 [00:00<?, ?it/s]"
      ]
     },
     "metadata": {},
     "output_type": "display_data"
    },
    {
     "data": {
      "application/vnd.jupyter.widget-view+json": {
       "model_id": "e96c8619d33044c39bcb6b464adda1b2",
       "version_major": 2,
       "version_minor": 0
      },
      "text/plain": [
       "Creating parquet from Arrow format:   0%|          | 0/1 [00:00<?, ?ba/s]"
      ]
     },
     "metadata": {},
     "output_type": "display_data"
    },
    {
     "data": {
      "application/vnd.jupyter.widget-view+json": {
       "model_id": "76455dadfe9d4a109e5280d4246b056a",
       "version_major": 2,
       "version_minor": 0
      },
      "text/plain": [
       "Upload 1 LFS files:   0%|          | 0/1 [00:00<?, ?it/s]"
      ]
     },
     "metadata": {},
     "output_type": "display_data"
    },
    {
     "data": {
      "application/vnd.jupyter.widget-view+json": {
       "model_id": "4ae2bae37aeb4e0787f9a30ddc56ce6e",
       "version_major": 2,
       "version_minor": 0
      },
      "text/plain": [
       "Map:   0%|          | 0/1000 [00:00<?, ? examples/s]"
      ]
     },
     "metadata": {},
     "output_type": "display_data"
    },
    {
     "data": {
      "application/vnd.jupyter.widget-view+json": {
       "model_id": "d2276b996e1b4a109972c83ef39c9d63",
       "version_major": 2,
       "version_minor": 0
      },
      "text/plain": [
       "Creating parquet from Arrow format:   0%|          | 0/1 [00:00<?, ?ba/s]"
      ]
     },
     "metadata": {},
     "output_type": "display_data"
    },
    {
     "data": {
      "application/vnd.jupyter.widget-view+json": {
       "model_id": "e77ac09f7ed5477f9eef4744160c2702",
       "version_major": 2,
       "version_minor": 0
      },
      "text/plain": [
       "Upload 1 LFS files:   0%|          | 0/1 [00:00<?, ?it/s]"
      ]
     },
     "metadata": {},
     "output_type": "display_data"
    },
    {
     "data": {
      "application/vnd.jupyter.widget-view+json": {
       "model_id": "aa03602d24114214b9c44fa877501713",
       "version_major": 2,
       "version_minor": 0
      },
      "text/plain": [
       "Map:   0%|          | 0/1000 [00:00<?, ? examples/s]"
      ]
     },
     "metadata": {},
     "output_type": "display_data"
    },
    {
     "data": {
      "application/vnd.jupyter.widget-view+json": {
       "model_id": "6eb481c57a18474286ca1a7d81617c98",
       "version_major": 2,
       "version_minor": 0
      },
      "text/plain": [
       "Creating parquet from Arrow format:   0%|          | 0/1 [00:00<?, ?ba/s]"
      ]
     },
     "metadata": {},
     "output_type": "display_data"
    },
    {
     "data": {
      "application/vnd.jupyter.widget-view+json": {
       "model_id": "f340676cdfa8451eb857b27a646e7da3",
       "version_major": 2,
       "version_minor": 0
      },
      "text/plain": [
       "Upload 1 LFS files:   0%|          | 0/1 [00:00<?, ?it/s]"
      ]
     },
     "metadata": {},
     "output_type": "display_data"
    },
    {
     "data": {
      "application/vnd.jupyter.widget-view+json": {
       "model_id": "b68e2d0b399f41f3a442ce1805495d71",
       "version_major": 2,
       "version_minor": 0
      },
      "text/plain": [
       "Map:   0%|          | 0/1000 [00:00<?, ? examples/s]"
      ]
     },
     "metadata": {},
     "output_type": "display_data"
    },
    {
     "data": {
      "application/vnd.jupyter.widget-view+json": {
       "model_id": "bdcfc5076447454b8021c314e8b2e8eb",
       "version_major": 2,
       "version_minor": 0
      },
      "text/plain": [
       "Creating parquet from Arrow format:   0%|          | 0/1 [00:00<?, ?ba/s]"
      ]
     },
     "metadata": {},
     "output_type": "display_data"
    },
    {
     "data": {
      "application/vnd.jupyter.widget-view+json": {
       "model_id": "8fef8e321c024df0a36a89d087eed734",
       "version_major": 2,
       "version_minor": 0
      },
      "text/plain": [
       "Upload 1 LFS files:   0%|          | 0/1 [00:00<?, ?it/s]"
      ]
     },
     "metadata": {},
     "output_type": "display_data"
    },
    {
     "data": {
      "application/vnd.jupyter.widget-view+json": {
       "model_id": "09160c16c0a9449eb029fc0ee62db45a",
       "version_major": 2,
       "version_minor": 0
      },
      "text/plain": [
       "Map:   0%|          | 0/1000 [00:00<?, ? examples/s]"
      ]
     },
     "metadata": {},
     "output_type": "display_data"
    },
    {
     "data": {
      "application/vnd.jupyter.widget-view+json": {
       "model_id": "637b76abe8a94890b00f8868ba4b1634",
       "version_major": 2,
       "version_minor": 0
      },
      "text/plain": [
       "Creating parquet from Arrow format:   0%|          | 0/1 [00:00<?, ?ba/s]"
      ]
     },
     "metadata": {},
     "output_type": "display_data"
    },
    {
     "data": {
      "application/vnd.jupyter.widget-view+json": {
       "model_id": "2f2e94094286474694f1132b66ce01cb",
       "version_major": 2,
       "version_minor": 0
      },
      "text/plain": [
       "Upload 1 LFS files:   0%|          | 0/1 [00:00<?, ?it/s]"
      ]
     },
     "metadata": {},
     "output_type": "display_data"
    },
    {
     "data": {
      "application/vnd.jupyter.widget-view+json": {
       "model_id": "03b69ef1e7fa4a6480bd3e585820cb92",
       "version_major": 2,
       "version_minor": 0
      },
      "text/plain": [
       "Map:   0%|          | 0/1000 [00:00<?, ? examples/s]"
      ]
     },
     "metadata": {},
     "output_type": "display_data"
    },
    {
     "data": {
      "application/vnd.jupyter.widget-view+json": {
       "model_id": "93b846f6a27f4cb98281728237869412",
       "version_major": 2,
       "version_minor": 0
      },
      "text/plain": [
       "Creating parquet from Arrow format:   0%|          | 0/1 [00:00<?, ?ba/s]"
      ]
     },
     "metadata": {},
     "output_type": "display_data"
    },
    {
     "data": {
      "application/vnd.jupyter.widget-view+json": {
       "model_id": "d09d78d46d18400b8ffd7686129170da",
       "version_major": 2,
       "version_minor": 0
      },
      "text/plain": [
       "Upload 1 LFS files:   0%|          | 0/1 [00:00<?, ?it/s]"
      ]
     },
     "metadata": {},
     "output_type": "display_data"
    },
    {
     "data": {
      "application/vnd.jupyter.widget-view+json": {
       "model_id": "4ba38a6767d14ddbabab31ee1a232923",
       "version_major": 2,
       "version_minor": 0
      },
      "text/plain": [
       "Map:   0%|          | 0/1000 [00:00<?, ? examples/s]"
      ]
     },
     "metadata": {},
     "output_type": "display_data"
    },
    {
     "data": {
      "application/vnd.jupyter.widget-view+json": {
       "model_id": "a22846f500054bf68e32a2a02658fd0a",
       "version_major": 2,
       "version_minor": 0
      },
      "text/plain": [
       "Creating parquet from Arrow format:   0%|          | 0/1 [00:00<?, ?ba/s]"
      ]
     },
     "metadata": {},
     "output_type": "display_data"
    },
    {
     "data": {
      "application/vnd.jupyter.widget-view+json": {
       "model_id": "a272dcec8e25411195cbce9680a401ff",
       "version_major": 2,
       "version_minor": 0
      },
      "text/plain": [
       "Upload 1 LFS files:   0%|          | 0/1 [00:00<?, ?it/s]"
      ]
     },
     "metadata": {},
     "output_type": "display_data"
    },
    {
     "data": {
      "application/vnd.jupyter.widget-view+json": {
       "model_id": "50ea42bdd25948e6aa5dffde21fb641e",
       "version_major": 2,
       "version_minor": 0
      },
      "text/plain": [
       "Map:   0%|          | 0/1000 [00:00<?, ? examples/s]"
      ]
     },
     "metadata": {},
     "output_type": "display_data"
    },
    {
     "data": {
      "application/vnd.jupyter.widget-view+json": {
       "model_id": "38e34bcd4f84474cae8e5ab95ef8ef95",
       "version_major": 2,
       "version_minor": 0
      },
      "text/plain": [
       "Creating parquet from Arrow format:   0%|          | 0/1 [00:00<?, ?ba/s]"
      ]
     },
     "metadata": {},
     "output_type": "display_data"
    },
    {
     "data": {
      "application/vnd.jupyter.widget-view+json": {
       "model_id": "7fdd318717d347bea4a4e415ad282e47",
       "version_major": 2,
       "version_minor": 0
      },
      "text/plain": [
       "Upload 1 LFS files:   0%|          | 0/1 [00:00<?, ?it/s]"
      ]
     },
     "metadata": {},
     "output_type": "display_data"
    },
    {
     "data": {
      "application/vnd.jupyter.widget-view+json": {
       "model_id": "2afccee82eea40d5855405a5242d956d",
       "version_major": 2,
       "version_minor": 0
      },
      "text/plain": [
       "Map:   0%|          | 0/1000 [00:00<?, ? examples/s]"
      ]
     },
     "metadata": {},
     "output_type": "display_data"
    },
    {
     "data": {
      "application/vnd.jupyter.widget-view+json": {
       "model_id": "c581da2a54dc49f1b09ce8eb696bd16c",
       "version_major": 2,
       "version_minor": 0
      },
      "text/plain": [
       "Creating parquet from Arrow format:   0%|          | 0/1 [00:00<?, ?ba/s]"
      ]
     },
     "metadata": {},
     "output_type": "display_data"
    },
    {
     "data": {
      "application/vnd.jupyter.widget-view+json": {
       "model_id": "9b16a160bdea4746aaf1b5ee51acc6d6",
       "version_major": 2,
       "version_minor": 0
      },
      "text/plain": [
       "Upload 1 LFS files:   0%|          | 0/1 [00:00<?, ?it/s]"
      ]
     },
     "metadata": {},
     "output_type": "display_data"
    },
    {
     "data": {
      "application/vnd.jupyter.widget-view+json": {
       "model_id": "724d6a5144d5427d94a681f0811b3667",
       "version_major": 2,
       "version_minor": 0
      },
      "text/plain": [
       "Map:   0%|          | 0/1000 [00:00<?, ? examples/s]"
      ]
     },
     "metadata": {},
     "output_type": "display_data"
    },
    {
     "data": {
      "application/vnd.jupyter.widget-view+json": {
       "model_id": "5963e4aece74442a9ab959f2e5c324d4",
       "version_major": 2,
       "version_minor": 0
      },
      "text/plain": [
       "Creating parquet from Arrow format:   0%|          | 0/1 [00:00<?, ?ba/s]"
      ]
     },
     "metadata": {},
     "output_type": "display_data"
    },
    {
     "data": {
      "application/vnd.jupyter.widget-view+json": {
       "model_id": "5b60ced9980d49f6a86a02043bff0604",
       "version_major": 2,
       "version_minor": 0
      },
      "text/plain": [
       "Upload 1 LFS files:   0%|          | 0/1 [00:00<?, ?it/s]"
      ]
     },
     "metadata": {},
     "output_type": "display_data"
    }
   ],
   "source": [
    "data_dict = df2.to_dict(orient='list')\n",
    "dataset = Dataset.from_dict(data_dict)\n",
    "dataset_name = \"landersanmi/VQAv2\".format(dataset_id)\n",
    "dataset.push_to_hub(dataset_name)"
   ]
  }
 ],
 "metadata": {
  "kernelspec": {
   "display_name": "mqc",
   "language": "python",
   "name": "python3"
  },
  "language_info": {
   "codemirror_mode": {
    "name": "ipython",
    "version": 3
   },
   "file_extension": ".py",
   "mimetype": "text/x-python",
   "name": "python",
   "nbconvert_exporter": "python",
   "pygments_lexer": "ipython3",
   "version": "3.9.16"
  },
  "orig_nbformat": 4
 },
 "nbformat": 4,
 "nbformat_minor": 2
}
