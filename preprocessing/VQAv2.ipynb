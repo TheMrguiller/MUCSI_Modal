{
 "cells": [
  {
   "attachments": {},
   "cell_type": "markdown",
   "metadata": {},
   "source": [
    "# VQAv2 Dataset preprocessing\n",
    "\n",
    "#### Multiple CHoice Questions creation"
   ]
  },
  {
   "attachments": {},
   "cell_type": "markdown",
   "metadata": {},
   "source": [
    "### Libraries"
   ]
  },
  {
   "cell_type": "code",
   "execution_count": 1,
   "metadata": {},
   "outputs": [
    {
     "name": "stderr",
     "output_type": "stream",
     "text": [
      "[nltk_data] Downloading package stopwords to /home/lander/nltk_data...\n",
      "[nltk_data]   Package stopwords is already up-to-date!\n"
     ]
    }
   ],
   "source": [
    "import json\n",
    "import torch.utils.data as data\n",
    "import os\n",
    "import random \n",
    "import io\n",
    "import base64\n",
    "import matplotlib.pyplot as plt\n",
    "import pandas as pd\n",
    "import swifter\n",
    "import gensim.downloader as api\n",
    "\n",
    "from mcq import MCQ\n",
    "from torchvision import transforms as T\n",
    "from PIL import Image\n",
    "from sense2vec import Sense2Vec\n",
    "from sentence_transformers import SentenceTransformer\n",
    "from tqdm import tqdm\n",
    "from gensim.models import Word2Vec\n",
    "from datasets import Dataset\n"
   ]
  },
  {
   "attachments": {},
   "cell_type": "markdown",
   "metadata": {},
   "source": [
    "### Load Local Dataset"
   ]
  },
  {
   "cell_type": "code",
   "execution_count": 4,
   "metadata": {},
   "outputs": [],
   "source": [
    "# get images and annotations from https://visualqa.org/download.html\n",
    "VQAV2_ROOT = '../flamingo-train_task/training/VQAV2/val2014'\n",
    "VQAV2_ANN_VAL = '../flamingo-train_task/training/VQAV2/v2_mscoco_val2014_annotations.json'\n",
    "VQAV2_ANN_QUEST_VAL = '../flamingo-train_task/training/VQAV2/v2_OpenEnded_mscoco_val2014_questions.json'"
   ]
  },
  {
   "cell_type": "code",
   "execution_count": 5,
   "metadata": {},
   "outputs": [],
   "source": [
    "class VQAv2(data.Dataset):\n",
    "    def __init__(self, image_folder, questions_file, annotations_file, transform=None, target_transform=None):\n",
    "        self.image_folder = image_folder\n",
    "        print(os.getcwd())\n",
    "        self.questions = json.load(open(questions_file))['questions']\n",
    "        self.annotations = json.load(open(annotations_file))['annotations']\n",
    "        self.transform = transform\n",
    "        self.target_transform = target_transform\n",
    "\n",
    "    def __getitem__(self, index):\n",
    "        target = self.questions[index]['question']\n",
    "        label = self.annotations[index]['multiple_choice_answer']\n",
    "        image_id = self.annotations[index]['image_id']\n",
    "        image_path = os.path.join(self.image_folder, 'COCO_val2014_' + str(image_id).zfill(12) + '.jpg')\n",
    "        image = Image.open(image_path).convert('RGB')\n",
    "        \n",
    "        if self.transform:\n",
    "            image = self.transform(image)\n",
    "\n",
    "        if self.target_transform is not None:\n",
    "            target = self.target_transform(target)\n",
    "        \n",
    "        return image, target, label\n",
    "\n",
    "    def __getcaption__(self,index):\n",
    "        return self.questions[\"question\"][index]\n",
    "    \n",
    "    def __getanswer__(self,index):\n",
    "        return self.annotations[\"answer\"][index]\n",
    "    \n",
    "    def __len__(self):\n",
    "        return len(self.questions)"
   ]
  },
  {
   "cell_type": "code",
   "execution_count": 6,
   "metadata": {},
   "outputs": [
    {
     "name": "stdout",
     "output_type": "stream",
     "text": [
      "/home/lander/Documentos/GitHub/MUCSI_Modal/preprocessing\n"
     ]
    }
   ],
   "source": [
    "transform = T.Compose([ #Con cierta probabilidad da la vuelta a la imagen y procesa la imagen con Clip\n",
    "    T.Resize((224, 224)),                       \n",
    "])\n",
    "\n",
    "def target_transform(data):\n",
    "    return f\"{random.choice(['', ' '])}[QA][CONTEXT]<image>{data}[ANSWER]\"\n",
    "    \n",
    "dataset = VQAv2(\n",
    "        image_folder=VQAV2_ROOT,\n",
    "        questions_file=VQAV2_ANN_QUEST_VAL,\n",
    "        annotations_file=VQAV2_ANN_VAL,\n",
    "        target_transform=target_transform,\n",
    "    )"
   ]
  },
  {
   "cell_type": "code",
   "execution_count": 7,
   "metadata": {},
   "outputs": [
    {
     "name": "stdout",
     "output_type": "stream",
     "text": [
      "Total annotations: 214354, Total questions:214354\n"
     ]
    }
   ],
   "source": [
    "print(\"Total annotations: {}, Total questions:{}\".format(len(dataset.annotations), len(dataset.questions)))"
   ]
  },
  {
   "cell_type": "code",
   "execution_count": 8,
   "metadata": {},
   "outputs": [
    {
     "name": "stdout",
     "output_type": "stream",
     "text": [
      "{'image_id': 262148, 'question': 'Where is he looking?', 'question_id': 262148000}\n",
      "{'question_type': 'none of the above', 'multiple_choice_answer': 'down', 'answers': [{'answer': 'down', 'answer_confidence': 'yes', 'answer_id': 1}, {'answer': 'down', 'answer_confidence': 'yes', 'answer_id': 2}, {'answer': 'at table', 'answer_confidence': 'yes', 'answer_id': 3}, {'answer': 'skateboard', 'answer_confidence': 'yes', 'answer_id': 4}, {'answer': 'down', 'answer_confidence': 'yes', 'answer_id': 5}, {'answer': 'table', 'answer_confidence': 'yes', 'answer_id': 6}, {'answer': 'down', 'answer_confidence': 'yes', 'answer_id': 7}, {'answer': 'down', 'answer_confidence': 'yes', 'answer_id': 8}, {'answer': 'down', 'answer_confidence': 'yes', 'answer_id': 9}, {'answer': 'down', 'answer_confidence': 'yes', 'answer_id': 10}], 'image_id': 262148, 'answer_type': 'other', 'question_id': 262148000}\n"
     ]
    }
   ],
   "source": [
    "print(dataset.questions[0])\n",
    "print(dataset.annotations[0])"
   ]
  },
  {
   "cell_type": "code",
   "execution_count": 9,
   "metadata": {},
   "outputs": [
    {
     "name": "stderr",
     "output_type": "stream",
     "text": [
      " 24%|██▍       | 51027/214354 [02:07<07:04, 384.44it/s]IOStream.flush timed out\n",
      " 25%|██▌       | 54239/214354 [03:02<5:49:24,  7.64it/s] "
     ]
    },
    {
     "ename": "",
     "evalue": "",
     "output_type": "error",
     "traceback": [
      "\u001b[1;31mCanceled future for execute_request message before replies were done"
     ]
    },
    {
     "ename": "",
     "evalue": "",
     "output_type": "error",
     "traceback": [
      "\u001b[1;31mThe Kernel crashed while executing code in the the current cell or a previous cell. Please review the code in the cell(s) to identify a possible cause of the failure. Click <a href='https://aka.ms/vscodeJupyterKernelCrash'>here</a> for more info. View Jupyter <a href='command:jupyter.viewOutput'>log</a> for further details."
     ]
    }
   ],
   "source": [
    "#mcq = MCQ()\n",
    "images, questions, answers,answer_types = [], [], [], []\n",
    "#s2v = Sense2Vec().from_disk('s2v_old')\n",
    "#sentence_transformer_model = SentenceTransformer('msmarco-distilbert-base-v3')\n",
    "\n",
    "for idx, question, annotation in tqdm(zip(range(len(dataset.questions)), dataset.questions, dataset.annotations), total=len(dataset.questions)):\n",
    "    answer = annotation['multiple_choice_answer']\n",
    "    answer_type = annotation['answer_type']\n",
    "    question = question['question']\n",
    "    img, _, _ = dataset.__getitem__(idx)\n",
    "    images.append(img)\n",
    "    \"\"\"\n",
    "    with io.BytesIO() as buffer:\n",
    "        img.save(buffer, format='JPEG')\n",
    "        base64_image = base64.b64encode(buffer.getvalue()).decode('utf-8')\n",
    "        images.append(str(base64_image))\n",
    "    \"\"\"\n",
    "    questions.append('[QUESTION]' + question)\n",
    "    answers.append(answer.capitalize())\n",
    "    answer_types.append(answer_type)\n",
    "\n",
    "    \n"
   ]
  },
  {
   "cell_type": "code",
   "execution_count": 59,
   "metadata": {},
   "outputs": [
    {
     "name": "stdout",
     "output_type": "stream",
     "text": [
      "{'image': [<PIL.Image.Image image mode=RGB size=640x512 at 0x7FF3DD30C430>, <PIL.Image.Image image mode=RGB size=640x512 at 0x7FF374D33340>, <PIL.Image.Image image mode=RGB size=640x512 at 0x7FF27BF6EA00>, <PIL.Image.Image image mode=RGB size=640x428 at 0x7FF207549C40>, <PIL.Image.Image image mode=RGB size=640x428 at 0x7FF207549580>, <PIL.Image.Image image mode=RGB size=640x428 at 0x7FF2075497C0>, <PIL.Image.Image image mode=RGB size=640x428 at 0x7FF207549B20>, <PIL.Image.Image image mode=RGB size=640x480 at 0x7FF2075A38E0>, <PIL.Image.Image image mode=RGB size=640x480 at 0x7FF2075E60A0>, <PIL.Image.Image image mode=RGB size=640x480 at 0x7FF2075E6880>, <PIL.Image.Image image mode=RGB size=640x512 at 0x7FF2075E6940>, <PIL.Image.Image image mode=RGB size=640x512 at 0x7FF2075E6BE0>, <PIL.Image.Image image mode=RGB size=640x512 at 0x7FF2075E6730>, <PIL.Image.Image image mode=RGB size=640x427 at 0x7FF2075E6760>, <PIL.Image.Image image mode=RGB size=640x427 at 0x7FF374D33040>, <PIL.Image.Image image mode=RGB size=640x427 at 0x7FF2D2600760>, <PIL.Image.Image image mode=RGB size=640x427 at 0x7FF2D2600DC0>, <PIL.Image.Image image mode=RGB size=640x427 at 0x7FF2D26004C0>, <PIL.Image.Image image mode=RGB size=640x480 at 0x7FF2D2600070>, <PIL.Image.Image image mode=RGB size=640x480 at 0x7FF2D2600310>, <PIL.Image.Image image mode=RGB size=640x480 at 0x7FF2D2600B20>, <PIL.Image.Image image mode=RGB size=640x480 at 0x7FF2D2600EB0>, <PIL.Image.Image image mode=RGB size=640x480 at 0x7FF2D2600D90>, <PIL.Image.Image image mode=RGB size=640x480 at 0x7FF2D2600A90>, <PIL.Image.Image image mode=RGB size=640x480 at 0x7FF2D2600C40>, <PIL.Image.Image image mode=RGB size=640x480 at 0x7FF2D26008E0>, <PIL.Image.Image image mode=RGB size=640x480 at 0x7FF2D2600DF0>, <PIL.Image.Image image mode=RGB size=640x480 at 0x7FF2D2600D60>, <PIL.Image.Image image mode=RGB size=640x480 at 0x7FF2D2600C70>, <PIL.Image.Image image mode=RGB size=640x480 at 0x7FF2D2600F10>, <PIL.Image.Image image mode=RGB size=640x480 at 0x7FF2D2600A00>, <PIL.Image.Image image mode=RGB size=640x480 at 0x7FF2D2600610>], 'question': ['[QUESTION]Where is he looking?', '[QUESTION]What are the people in the background doing?', '[QUESTION]What is he on top of?', '[QUESTION]What website copyrighted the picture?', '[QUESTION]Is this a creamy soup?', '[QUESTION]Is this rice noodle soup?', '[QUESTION]What is to the right of the soup?', '[QUESTION]What is the man doing in the street?', \"[QUESTION]How many photo's can you see?\", '[QUESTION]What does the truck on the left sell?', '[QUESTION]Why is there a gap between the roof and wall?', '[QUESTION]Is it daylight in this picture?', '[QUESTION]Why is the cow laying down?', '[QUESTION]What color is the grass in this picture?', '[QUESTION]Did the batter hit the ball?', '[QUESTION]How many are playing ball?', '[QUESTION]Is there a chain link fence in the image?', '[QUESTION]Is the boy playing baseball?', '[QUESTION]Is that a folding chair?', '[QUESTION]How many beds?', '[QUESTION]What color is the bedspread?', '[QUESTION]How many pictures are there?', '[QUESTION]Are these twin mattresses?', '[QUESTION]How many sources of light are there?', '[QUESTION]Is this room decorated for the 1970s?', '[QUESTION]Are the lights on in this room?', '[QUESTION]Are the windows big?', '[QUESTION]What is the chair made of?', \"[QUESTION]Is this room in someone's home?\", '[QUESTION]Which room is this?', '[QUESTION]Is the bed white?', '[QUESTION]Could this be a hotel room?'], 'answer': ['Down', 'Watching', 'Picnic table', 'Foodiebakercom', 'No', 'Yes', 'Chopsticks', 'Walking', '1', 'Ice cream', 'Yes', 'Yes', 'Tired', 'Green', 'Yes', '1', 'No', 'Yes', 'No', '1', 'White', '7', 'No', '1', 'No', 'No', 'Yes', 'Leather', 'Yes', 'Bedroom', 'Yes', 'No'], 'answer_type': ['other', 'other', 'other', 'other', 'yes/no', 'yes/no', 'other', 'other', 'number', 'other', 'other', 'yes/no', 'other', 'other', 'yes/no', 'number', 'yes/no', 'yes/no', 'yes/no', 'number', 'other', 'number', 'yes/no', 'number', 'yes/no', 'yes/no', 'yes/no', 'other', 'yes/no', 'other', 'yes/no', 'yes/no']}\n"
     ]
    }
   ],
   "source": [
    "data = {\n",
    "    'image': images,\n",
    "    'question': questions,\n",
    "    #'options': choices,\n",
    "    'answer': answers,\n",
    "    'answer_type': answer_types\n",
    "}\n",
    "print(data)"
   ]
  },
  {
   "cell_type": "code",
   "execution_count": 60,
   "metadata": {},
   "outputs": [
    {
     "data": {
      "text/html": [
       "<div>\n",
       "<style scoped>\n",
       "    .dataframe tbody tr th:only-of-type {\n",
       "        vertical-align: middle;\n",
       "    }\n",
       "\n",
       "    .dataframe tbody tr th {\n",
       "        vertical-align: top;\n",
       "    }\n",
       "\n",
       "    .dataframe thead th {\n",
       "        text-align: right;\n",
       "    }\n",
       "</style>\n",
       "<table border=\"1\" class=\"dataframe\">\n",
       "  <thead>\n",
       "    <tr style=\"text-align: right;\">\n",
       "      <th></th>\n",
       "      <th>image</th>\n",
       "      <th>question</th>\n",
       "      <th>answer</th>\n",
       "      <th>answer_type</th>\n",
       "    </tr>\n",
       "  </thead>\n",
       "  <tbody>\n",
       "    <tr>\n",
       "      <th>0</th>\n",
       "      <td>&lt;PIL.Image.Image image mode=RGB size=640x512 a...</td>\n",
       "      <td>[QUESTION]Where is he looking?</td>\n",
       "      <td>Down</td>\n",
       "      <td>other</td>\n",
       "    </tr>\n",
       "    <tr>\n",
       "      <th>1</th>\n",
       "      <td>&lt;PIL.Image.Image image mode=RGB size=640x512 a...</td>\n",
       "      <td>[QUESTION]What are the people in the backgroun...</td>\n",
       "      <td>Watching</td>\n",
       "      <td>other</td>\n",
       "    </tr>\n",
       "    <tr>\n",
       "      <th>2</th>\n",
       "      <td>&lt;PIL.Image.Image image mode=RGB size=640x512 a...</td>\n",
       "      <td>[QUESTION]What is he on top of?</td>\n",
       "      <td>Picnic table</td>\n",
       "      <td>other</td>\n",
       "    </tr>\n",
       "    <tr>\n",
       "      <th>3</th>\n",
       "      <td>&lt;PIL.Image.Image image mode=RGB size=640x428 a...</td>\n",
       "      <td>[QUESTION]What website copyrighted the picture?</td>\n",
       "      <td>Foodiebakercom</td>\n",
       "      <td>other</td>\n",
       "    </tr>\n",
       "    <tr>\n",
       "      <th>4</th>\n",
       "      <td>&lt;PIL.Image.Image image mode=RGB size=640x428 a...</td>\n",
       "      <td>[QUESTION]Is this a creamy soup?</td>\n",
       "      <td>No</td>\n",
       "      <td>yes/no</td>\n",
       "    </tr>\n",
       "  </tbody>\n",
       "</table>\n",
       "</div>"
      ],
      "text/plain": [
       "                                               image   \n",
       "0  <PIL.Image.Image image mode=RGB size=640x512 a...  \\\n",
       "1  <PIL.Image.Image image mode=RGB size=640x512 a...   \n",
       "2  <PIL.Image.Image image mode=RGB size=640x512 a...   \n",
       "3  <PIL.Image.Image image mode=RGB size=640x428 a...   \n",
       "4  <PIL.Image.Image image mode=RGB size=640x428 a...   \n",
       "\n",
       "                                            question          answer   \n",
       "0                     [QUESTION]Where is he looking?            Down  \\\n",
       "1  [QUESTION]What are the people in the backgroun...        Watching   \n",
       "2                    [QUESTION]What is he on top of?    Picnic table   \n",
       "3    [QUESTION]What website copyrighted the picture?  Foodiebakercom   \n",
       "4                   [QUESTION]Is this a creamy soup?              No   \n",
       "\n",
       "  answer_type  \n",
       "0       other  \n",
       "1       other  \n",
       "2       other  \n",
       "3       other  \n",
       "4      yes/no  "
      ]
     },
     "execution_count": 60,
     "metadata": {},
     "output_type": "execute_result"
    }
   ],
   "source": [
    "df = pd.DataFrame.from_dict(data)\n",
    "df.head()"
   ]
  },
  {
   "cell_type": "code",
   "execution_count": 64,
   "metadata": {},
   "outputs": [
    {
     "name": "stdout",
     "output_type": "stream",
     "text": [
      "huggingface/tokenizers: The current process just got forked, after parallelism has already been used. Disabling parallelism to avoid deadlocks...\n",
      "To disable this warning, you can either:\n",
      "\t- Avoid using `tokenizers` before the fork if possible\n",
      "\t- Explicitly set the environment variable TOKENIZERS_PARALLELISM=(true | false)\n",
      "--2023-06-02 00:43:10--  https://s3.amazonaws.com/dl4j-distribution/GoogleNews-vectors-negative300.bin.gz\n",
      "Resolviendo s3.amazonaws.com (s3.amazonaws.com)... 52.216.2.27, 52.217.104.62, 54.231.165.168, ...\n",
      "Conectando con s3.amazonaws.com (s3.amazonaws.com)[52.216.2.27]:443... conectado.\n",
      "Petición HTTP enviada, esperando respuesta... 404 Not Found\n",
      "2023-06-02 00:43:11 ERROR 404: Not Found.\n",
      "\n"
     ]
    }
   ],
   "source": [
    "!wget -c \"https://s3.amazonaws.com/dl4j-distribution/GoogleNews-vectors-negative300.bin.gz\""
   ]
  },
  {
   "cell_type": "code",
   "execution_count": 70,
   "metadata": {},
   "outputs": [],
   "source": [
    "model = api.load('word2vec-google-news-300')\n",
    "INDEXES = [\"(A) \", \"(B) \", \"(C) \", \"(D) \"]\n",
    "\n",
    "def generate_distractors(row):\n",
    "    choices_tmp = '[OPTIONS]'\n",
    "\n",
    "    if row['answer_type'] == \"yes/no\":\n",
    "        choices_tmp += '(A) Yes (B) No '\n",
    "    else:\n",
    "        distractors = []\n",
    "        word = row['answer']\n",
    "        if word in model.key_to_index:\n",
    "            distractors = [similar_word.capitalize() for similar_word, _ in model.most_similar(word, topn=5)]\n",
    "\n",
    "        \n",
    "        distractors = distractors[0:3]\n",
    "        distractors.append(answer.capitalize())\n",
    "        random.shuffle(distractors)\n",
    "\n",
    "        for idx, distractor in zip(INDEXES, distractors):\n",
    "            choices_tmp += idx + distractor + \" \"\n",
    "\n",
    "    return choices_tmp"
   ]
  },
  {
   "cell_type": "code",
   "execution_count": 71,
   "metadata": {},
   "outputs": [
    {
     "name": "stderr",
     "output_type": "stream",
     "text": [
      "Pandas Apply: 100%|██████████| 32/32 [00:04<00:00,  7.48it/s]\n"
     ]
    }
   ],
   "source": [
    "df['choices'] = df.swifter.apply(generate_distractors, axis=1)"
   ]
  },
  {
   "cell_type": "code",
   "execution_count": 50,
   "metadata": {},
   "outputs": [
    {
     "data": {
      "text/html": [
       "<div>\n",
       "<style scoped>\n",
       "    .dataframe tbody tr th:only-of-type {\n",
       "        vertical-align: middle;\n",
       "    }\n",
       "\n",
       "    .dataframe tbody tr th {\n",
       "        vertical-align: top;\n",
       "    }\n",
       "\n",
       "    .dataframe thead th {\n",
       "        text-align: right;\n",
       "    }\n",
       "</style>\n",
       "<table border=\"1\" class=\"dataframe\">\n",
       "  <thead>\n",
       "    <tr style=\"text-align: right;\">\n",
       "      <th></th>\n",
       "      <th>image</th>\n",
       "      <th>question</th>\n",
       "      <th>answer</th>\n",
       "      <th>answer_type</th>\n",
       "      <th>choices</th>\n",
       "    </tr>\n",
       "  </thead>\n",
       "  <tbody>\n",
       "    <tr>\n",
       "      <th>0</th>\n",
       "      <td>&lt;PIL.Image.Image image mode=RGB size=640x512 a...</td>\n",
       "      <td>[QUESTION]Where is he looking?</td>\n",
       "      <td>Down</td>\n",
       "      <td>other</td>\n",
       "      <td>[OPTIONS](A) Yes (B) Mambo (C) No (D) Fourth</td>\n",
       "    </tr>\n",
       "    <tr>\n",
       "      <th>1</th>\n",
       "      <td>&lt;PIL.Image.Image image mode=RGB size=640x512 a...</td>\n",
       "      <td>[QUESTION]What are the people in the backgroun...</td>\n",
       "      <td>Watching</td>\n",
       "      <td>other</td>\n",
       "      <td>[OPTIONS](A) Yes (B) Mambo (C) Fourth (D) No</td>\n",
       "    </tr>\n",
       "    <tr>\n",
       "      <th>2</th>\n",
       "      <td>&lt;PIL.Image.Image image mode=RGB size=640x512 a...</td>\n",
       "      <td>[QUESTION]What is he on top of?</td>\n",
       "      <td>Picnic table</td>\n",
       "      <td>other</td>\n",
       "      <td>[OPTIONS](A) Fourth (B) No (C) Yes (D) Mambo</td>\n",
       "    </tr>\n",
       "    <tr>\n",
       "      <th>3</th>\n",
       "      <td>&lt;PIL.Image.Image image mode=RGB size=640x428 a...</td>\n",
       "      <td>[QUESTION]What website copyrighted the picture?</td>\n",
       "      <td>Foodiebakercom</td>\n",
       "      <td>other</td>\n",
       "      <td>[OPTIONS](A) No (B) Yes (C) Fourth (D) Mambo</td>\n",
       "    </tr>\n",
       "    <tr>\n",
       "      <th>4</th>\n",
       "      <td>&lt;PIL.Image.Image image mode=RGB size=640x428 a...</td>\n",
       "      <td>[QUESTION]Is this a creamy soup?</td>\n",
       "      <td>No</td>\n",
       "      <td>yes/no</td>\n",
       "      <td>[OPTIONS](A) Yes (B) No</td>\n",
       "    </tr>\n",
       "    <tr>\n",
       "      <th>5</th>\n",
       "      <td>&lt;PIL.Image.Image image mode=RGB size=640x428 a...</td>\n",
       "      <td>[QUESTION]Is this rice noodle soup?</td>\n",
       "      <td>Yes</td>\n",
       "      <td>yes/no</td>\n",
       "      <td>[OPTIONS](A) Yes (B) No</td>\n",
       "    </tr>\n",
       "    <tr>\n",
       "      <th>6</th>\n",
       "      <td>&lt;PIL.Image.Image image mode=RGB size=640x428 a...</td>\n",
       "      <td>[QUESTION]What is to the right of the soup?</td>\n",
       "      <td>Chopsticks</td>\n",
       "      <td>other</td>\n",
       "      <td>[OPTIONS](A) Fourth (B) No (C) Yes (D) Mambo</td>\n",
       "    </tr>\n",
       "    <tr>\n",
       "      <th>7</th>\n",
       "      <td>&lt;PIL.Image.Image image mode=RGB size=640x480 a...</td>\n",
       "      <td>[QUESTION]What is the man doing in the street?</td>\n",
       "      <td>Walking</td>\n",
       "      <td>other</td>\n",
       "      <td>[OPTIONS](A) Fourth (B) Yes (C) No (D) Mambo</td>\n",
       "    </tr>\n",
       "    <tr>\n",
       "      <th>8</th>\n",
       "      <td>&lt;PIL.Image.Image image mode=RGB size=640x480 a...</td>\n",
       "      <td>[QUESTION]How many photo's can you see?</td>\n",
       "      <td>1</td>\n",
       "      <td>number</td>\n",
       "      <td>[OPTIONS](A) Yes (B) Mambo (C) Fourth (D) No</td>\n",
       "    </tr>\n",
       "    <tr>\n",
       "      <th>9</th>\n",
       "      <td>&lt;PIL.Image.Image image mode=RGB size=640x480 a...</td>\n",
       "      <td>[QUESTION]What does the truck on the left sell?</td>\n",
       "      <td>Ice cream</td>\n",
       "      <td>other</td>\n",
       "      <td>[OPTIONS](A) Fourth (B) Yes (C) Mambo (D) No</td>\n",
       "    </tr>\n",
       "    <tr>\n",
       "      <th>10</th>\n",
       "      <td>&lt;PIL.Image.Image image mode=RGB size=640x512 a...</td>\n",
       "      <td>[QUESTION]Why is there a gap between the roof ...</td>\n",
       "      <td>Yes</td>\n",
       "      <td>other</td>\n",
       "      <td>[OPTIONS](A) Fourth (B) Yes (C) Mambo (D) No</td>\n",
       "    </tr>\n",
       "    <tr>\n",
       "      <th>11</th>\n",
       "      <td>&lt;PIL.Image.Image image mode=RGB size=640x512 a...</td>\n",
       "      <td>[QUESTION]Is it daylight in this picture?</td>\n",
       "      <td>Yes</td>\n",
       "      <td>yes/no</td>\n",
       "      <td>[OPTIONS](A) Yes (B) No</td>\n",
       "    </tr>\n",
       "    <tr>\n",
       "      <th>12</th>\n",
       "      <td>&lt;PIL.Image.Image image mode=RGB size=640x512 a...</td>\n",
       "      <td>[QUESTION]Why is the cow laying down?</td>\n",
       "      <td>Tired</td>\n",
       "      <td>other</td>\n",
       "      <td>[OPTIONS](A) No (B) Fourth (C) Mambo (D) Yes</td>\n",
       "    </tr>\n",
       "    <tr>\n",
       "      <th>13</th>\n",
       "      <td>&lt;PIL.Image.Image image mode=RGB size=640x427 a...</td>\n",
       "      <td>[QUESTION]What color is the grass in this pict...</td>\n",
       "      <td>Green</td>\n",
       "      <td>other</td>\n",
       "      <td>[OPTIONS](A) No (B) Fourth (C) Yes (D) Mambo</td>\n",
       "    </tr>\n",
       "    <tr>\n",
       "      <th>14</th>\n",
       "      <td>&lt;PIL.Image.Image image mode=RGB size=640x427 a...</td>\n",
       "      <td>[QUESTION]Did the batter hit the ball?</td>\n",
       "      <td>Yes</td>\n",
       "      <td>yes/no</td>\n",
       "      <td>[OPTIONS](A) Yes (B) No</td>\n",
       "    </tr>\n",
       "    <tr>\n",
       "      <th>15</th>\n",
       "      <td>&lt;PIL.Image.Image image mode=RGB size=640x427 a...</td>\n",
       "      <td>[QUESTION]How many are playing ball?</td>\n",
       "      <td>1</td>\n",
       "      <td>number</td>\n",
       "      <td>[OPTIONS](A) Mambo (B) No (C) Yes (D) Fourth</td>\n",
       "    </tr>\n",
       "    <tr>\n",
       "      <th>16</th>\n",
       "      <td>&lt;PIL.Image.Image image mode=RGB size=640x427 a...</td>\n",
       "      <td>[QUESTION]Is there a chain link fence in the i...</td>\n",
       "      <td>No</td>\n",
       "      <td>yes/no</td>\n",
       "      <td>[OPTIONS](A) Yes (B) No</td>\n",
       "    </tr>\n",
       "    <tr>\n",
       "      <th>17</th>\n",
       "      <td>&lt;PIL.Image.Image image mode=RGB size=640x427 a...</td>\n",
       "      <td>[QUESTION]Is the boy playing baseball?</td>\n",
       "      <td>Yes</td>\n",
       "      <td>yes/no</td>\n",
       "      <td>[OPTIONS](A) Yes (B) No</td>\n",
       "    </tr>\n",
       "    <tr>\n",
       "      <th>18</th>\n",
       "      <td>&lt;PIL.Image.Image image mode=RGB size=640x480 a...</td>\n",
       "      <td>[QUESTION]Is that a folding chair?</td>\n",
       "      <td>No</td>\n",
       "      <td>yes/no</td>\n",
       "      <td>[OPTIONS](A) Yes (B) No</td>\n",
       "    </tr>\n",
       "    <tr>\n",
       "      <th>19</th>\n",
       "      <td>&lt;PIL.Image.Image image mode=RGB size=640x480 a...</td>\n",
       "      <td>[QUESTION]How many beds?</td>\n",
       "      <td>1</td>\n",
       "      <td>number</td>\n",
       "      <td>[OPTIONS](A) Fourth (B) No (C) Yes (D) Mambo</td>\n",
       "    </tr>\n",
       "  </tbody>\n",
       "</table>\n",
       "</div>"
      ],
      "text/plain": [
       "                                                image   \n",
       "0   <PIL.Image.Image image mode=RGB size=640x512 a...  \\\n",
       "1   <PIL.Image.Image image mode=RGB size=640x512 a...   \n",
       "2   <PIL.Image.Image image mode=RGB size=640x512 a...   \n",
       "3   <PIL.Image.Image image mode=RGB size=640x428 a...   \n",
       "4   <PIL.Image.Image image mode=RGB size=640x428 a...   \n",
       "5   <PIL.Image.Image image mode=RGB size=640x428 a...   \n",
       "6   <PIL.Image.Image image mode=RGB size=640x428 a...   \n",
       "7   <PIL.Image.Image image mode=RGB size=640x480 a...   \n",
       "8   <PIL.Image.Image image mode=RGB size=640x480 a...   \n",
       "9   <PIL.Image.Image image mode=RGB size=640x480 a...   \n",
       "10  <PIL.Image.Image image mode=RGB size=640x512 a...   \n",
       "11  <PIL.Image.Image image mode=RGB size=640x512 a...   \n",
       "12  <PIL.Image.Image image mode=RGB size=640x512 a...   \n",
       "13  <PIL.Image.Image image mode=RGB size=640x427 a...   \n",
       "14  <PIL.Image.Image image mode=RGB size=640x427 a...   \n",
       "15  <PIL.Image.Image image mode=RGB size=640x427 a...   \n",
       "16  <PIL.Image.Image image mode=RGB size=640x427 a...   \n",
       "17  <PIL.Image.Image image mode=RGB size=640x427 a...   \n",
       "18  <PIL.Image.Image image mode=RGB size=640x480 a...   \n",
       "19  <PIL.Image.Image image mode=RGB size=640x480 a...   \n",
       "\n",
       "                                             question          answer   \n",
       "0                      [QUESTION]Where is he looking?            Down  \\\n",
       "1   [QUESTION]What are the people in the backgroun...        Watching   \n",
       "2                     [QUESTION]What is he on top of?    Picnic table   \n",
       "3     [QUESTION]What website copyrighted the picture?  Foodiebakercom   \n",
       "4                    [QUESTION]Is this a creamy soup?              No   \n",
       "5                 [QUESTION]Is this rice noodle soup?             Yes   \n",
       "6         [QUESTION]What is to the right of the soup?      Chopsticks   \n",
       "7      [QUESTION]What is the man doing in the street?         Walking   \n",
       "8             [QUESTION]How many photo's can you see?               1   \n",
       "9     [QUESTION]What does the truck on the left sell?       Ice cream   \n",
       "10  [QUESTION]Why is there a gap between the roof ...             Yes   \n",
       "11          [QUESTION]Is it daylight in this picture?             Yes   \n",
       "12              [QUESTION]Why is the cow laying down?           Tired   \n",
       "13  [QUESTION]What color is the grass in this pict...           Green   \n",
       "14             [QUESTION]Did the batter hit the ball?             Yes   \n",
       "15               [QUESTION]How many are playing ball?               1   \n",
       "16  [QUESTION]Is there a chain link fence in the i...              No   \n",
       "17             [QUESTION]Is the boy playing baseball?             Yes   \n",
       "18                 [QUESTION]Is that a folding chair?              No   \n",
       "19                           [QUESTION]How many beds?               1   \n",
       "\n",
       "   answer_type                                        choices  \n",
       "0        other  [OPTIONS](A) Yes (B) Mambo (C) No (D) Fourth   \n",
       "1        other  [OPTIONS](A) Yes (B) Mambo (C) Fourth (D) No   \n",
       "2        other  [OPTIONS](A) Fourth (B) No (C) Yes (D) Mambo   \n",
       "3        other  [OPTIONS](A) No (B) Yes (C) Fourth (D) Mambo   \n",
       "4       yes/no                       [OPTIONS](A) Yes (B) No   \n",
       "5       yes/no                       [OPTIONS](A) Yes (B) No   \n",
       "6        other  [OPTIONS](A) Fourth (B) No (C) Yes (D) Mambo   \n",
       "7        other  [OPTIONS](A) Fourth (B) Yes (C) No (D) Mambo   \n",
       "8       number  [OPTIONS](A) Yes (B) Mambo (C) Fourth (D) No   \n",
       "9        other  [OPTIONS](A) Fourth (B) Yes (C) Mambo (D) No   \n",
       "10       other  [OPTIONS](A) Fourth (B) Yes (C) Mambo (D) No   \n",
       "11      yes/no                       [OPTIONS](A) Yes (B) No   \n",
       "12       other  [OPTIONS](A) No (B) Fourth (C) Mambo (D) Yes   \n",
       "13       other  [OPTIONS](A) No (B) Fourth (C) Yes (D) Mambo   \n",
       "14      yes/no                       [OPTIONS](A) Yes (B) No   \n",
       "15      number  [OPTIONS](A) Mambo (B) No (C) Yes (D) Fourth   \n",
       "16      yes/no                       [OPTIONS](A) Yes (B) No   \n",
       "17      yes/no                       [OPTIONS](A) Yes (B) No   \n",
       "18      yes/no                       [OPTIONS](A) Yes (B) No   \n",
       "19      number  [OPTIONS](A) Fourth (B) No (C) Yes (D) Mambo   "
      ]
     },
     "execution_count": 50,
     "metadata": {},
     "output_type": "execute_result"
    }
   ],
   "source": [
    "df.head(20)"
   ]
  },
  {
   "cell_type": "code",
   "execution_count": null,
   "metadata": {},
   "outputs": [],
   "source": [
    "# Assuming your DataFrame is named 'df'\n",
    "data_dict = df.to_dict(orient='list')\n",
    "dataset = Dataset.from_dict(data_dict)\n",
    "dataset_name = \"your-username/your-dataset-name\"  # Replace with your desired dataset name\n",
    "dataset.save_to_disk(dataset_name)"
   ]
  }
 ],
 "metadata": {
  "kernelspec": {
   "display_name": "mqc",
   "language": "python",
   "name": "python3"
  },
  "language_info": {
   "codemirror_mode": {
    "name": "ipython",
    "version": 3
   },
   "file_extension": ".py",
   "mimetype": "text/x-python",
   "name": "python",
   "nbconvert_exporter": "python",
   "pygments_lexer": "ipython3",
   "version": "3.9.16"
  },
  "orig_nbformat": 4
 },
 "nbformat": 4,
 "nbformat_minor": 2
}
